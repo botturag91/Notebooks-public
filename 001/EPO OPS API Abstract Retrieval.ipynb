{
 "cells": [
  {
   "cell_type": "markdown",
   "id": "170b5416-7a56-4753-9671-1d1ea79ecce6",
   "metadata": {},
   "source": [
    "## EPO OPS API - Usage Example\n",
    "\n",
    "Open Patent Services (OPS) is a web service which provides access to the EPO's raw data via a standardised XML interface. It does this using RESTful architecture. The present notebook illustrates its usage."
   ]
  },
  {
   "cell_type": "markdown",
   "id": "1011b60a-655f-4009-b2a1-9b6da4b70ea4",
   "metadata": {},
   "source": [
    "To use OPS, registration is required, see: [link](https://www.epo.org/searching-for-patents/data/web-services/ops.html)\n",
    "\n",
    "Registering is **free** as is using the service! Nevertheless, non-paying users are limited to use up to **4 GB** of data **per week.** \n",
    "\n",
    "To read more about what is possible wiht OPS, just have a look at the documentation at the same page above, under \"Further information\".\n",
    "\n",
    "The repository of the present project can be found here: [link](https://github.com/botturag91/Notebooks-public/001)\n"
   ]
  },
  {
   "cell_type": "markdown",
   "id": "7be5dfa0",
   "metadata": {},
   "source": [
    "# Preparing environment"
   ]
  },
  {
   "cell_type": "markdown",
   "id": "3569290d",
   "metadata": {},
   "source": [
    "## Project Folder Structure"
   ]
  },
  {
   "cell_type": "markdown",
   "id": "33eb8792",
   "metadata": {},
   "source": [
    "```\n",
    "project_root_folder\n",
    "│   EPO OPS API Abstract Retrieval.ipynb    \n",
    "│   requirements.txt                        # Requirements to install\n",
    "|   keys.cfg                                # API Keys\n",
    "|   images/                                  # Directory containing notebook images\n",
    "```"
   ]
  },
  {
   "cell_type": "markdown",
   "id": "a73b1615",
   "metadata": {},
   "source": [
    "## Installing packages from requirements file"
   ]
  },
  {
   "cell_type": "code",
   "execution_count": 13,
   "id": "b1116c08-86c9-4fac-97dd-b99fe7547933",
   "metadata": {},
   "outputs": [],
   "source": [
    "import pip"
   ]
  },
  {
   "cell_type": "code",
   "execution_count": 14,
   "id": "5e514a98",
   "metadata": {},
   "outputs": [],
   "source": [
    "def import_or_install(package):\n",
    "    try:\n",
    "        __import__(package)\n",
    "    except ImportError:\n",
    "        pip.main(['install', package])       "
   ]
  },
  {
   "cell_type": "code",
   "execution_count": 28,
   "id": "3e68345d-77e3-4e5b-a84f-b7e14c56fa55",
   "metadata": {},
   "outputs": [],
   "source": [
    "with open(\"./requirements.txt\", \"r\") as f:\n",
    "    for package in f.readlines():\n",
    "        import_or_install(package)"
   ]
  },
  {
   "cell_type": "markdown",
   "id": "2c2571b5",
   "metadata": {},
   "source": [
    "# How does it work\n",
    "\n",
    "The EPO OPS API provides a serie of service. Here is illustrated the use of two of them:\n",
    "\n",
    "- Search service: Provides patent number based on a specific query used\n",
    "- Abstract service: Provides the abstract of patent document based on a patent number "
   ]
  },
  {
   "cell_type": "code",
   "execution_count": 16,
   "id": "3eab3f3a-3109-4989-a0e0-b5d220943d1c",
   "metadata": {},
   "outputs": [],
   "source": [
    "import requests # Handles HTTP requests\n",
    "from configparser import ConfigParser # Retrieves secret API keys from config file\n",
    "from pandas import json_normalize # Flattens the json response \n",
    "import ast # Evaluate an expression node or a string containing a Python literal \n",
    "import json # Handles json \n",
    "from base64 import b64encode  # Provides Standard Base64 Encoding for the API keys \n",
    "import urllib # Encodes a query in url format for APi request\n",
    "import time\n",
    "from timeout import random_timeout  # Randomized sleep() function to avoid RobotDetect Errors\n",
    "from fake_useragent import UserAgent  # Fakes an header for the HTTP request "
   ]
  },
  {
   "attachments": {
    "credentials-2.png": {
     "image/png": "[encoded data removed]"
    }
   },
   "cell_type": "markdown",
   "id": "ec240781",
   "metadata": {},
   "source": [
    "## Retrieve API keys from config file in same PATH as the present notebook\n",
    "\n",
    "In order to take care of the credentials, after they have been optained, add these in a configuration file named \"keys.cfg\", having the following structure:\n",
    "\n",
    "![credentials.png](./images/credentials.png)"
   ]
  },
  {
   "cell_type": "code",
   "execution_count": 17,
   "id": "334db8cc",
   "metadata": {},
   "outputs": [],
   "source": [
    "parser = ConfigParser()\n",
    "_ = parser.read(\"keys.cfg\")\n",
    "CONSUMER_KEY = parser.get(\"api_keys\", \"CONSUMER_KEY\")\n",
    "CONSUMER_SECRET_KEY = parser.get(\"api_keys\", \"CONSUMER_SECRET_KEY\")"
   ]
  },
  {
   "cell_type": "code",
   "execution_count": 18,
   "id": "0c840698-f302-4278-a970-aca3e93243d7",
   "metadata": {},
   "outputs": [],
   "source": [
    "def get_token():\n",
    "    \"\"\"\n",
    "    A token requested so to be used in every request to the API. The token \n",
    "    is obtained by post request the encoded key, which is made from the \n",
    "    CONSUMER_KEY and CONSUMER_SECRET_KEY received\n",
    "    \"\"\"\n",
    "\n",
    "    # Standard Base64 Encoding\n",
    "    KEY = b64encode(\n",
    "        (CONSUMER_KEY + \":\" + CONSUMER_SECRET_KEY).encode(\"utf-8\")\n",
    "    ).decode(\"utf-8\")\n",
    "\n",
    "    PAYLOAD = {\"grant_type\": \"client_credentials\"}\n",
    "    HEADER_POST = {\n",
    "        \"Authorization\": \"Basic {}\".format(KEY),\n",
    "        \"Content-Type\": \"application/x-www-form-urlencoded\",\n",
    "    }\n",
    "\n",
    "    with requests.Session() as s:\n",
    "        s.headers.update(HEADER_POST)\n",
    "        resp = s.post(\"https://ops.epo.org/3.2/auth/accesstoken\", data=PAYLOAD)\n",
    "        post = ast.literal_eval(resp.text)\n",
    "        TOKEN = post[\"access_token\"]\n",
    "\n",
    "    return TOKEN"
   ]
  },
  {
   "cell_type": "code",
   "execution_count": 19,
   "id": "f103eabf-1e05-49b0-afbd-8e95defca454",
   "metadata": {},
   "outputs": [],
   "source": [
    "def request(TOKEN: str, URL: str):\n",
    "    \"\"\"\n",
    "    The request utilizes a randomized User agent field to avoid RobotDetected Errors. \n",
    "    The request is a HTTP GET request obatined in json format.\n",
    "    A random timeout is also used to avoid RobotDeceted Errors. \n",
    "    The type of services to make use of and the associated parameters are defined in the URL\n",
    "    \"\"\"\n",
    "\n",
    "    ua = UserAgent()\n",
    "\n",
    "    HEADER_GET = {\n",
    "        \"Authorization\": \"Bearer \" + str(TOKEN),\n",
    "        \"Content-Type\": \"application/x-www-form-urlencoded\",\n",
    "        \"Accept\": \"application/json\",  \n",
    "        \"User-Agent\": str(ua.chrome),\n",
    "    }\n",
    "\n",
    "    random_timeout(2, 20)\n",
    "        \n",
    "    with requests.Session() as s:\n",
    "        s.headers.update(HEADER_GET)\n",
    "\n",
    "        response = s.get(\"http://ops.epo.org/rest-services/\" + str(URL))\n",
    "\n",
    "    return response"
   ]
  },
  {
   "cell_type": "code",
   "execution_count": 20,
   "id": "34513698-3928-4b0a-95d1-c92589bb1223",
   "metadata": {},
   "outputs": [],
   "source": [
    "def get_patent_number(query: str):\n",
    "    \"\"\"\n",
    "    The present function retrieves patent numbers meeting the query. \n",
    "    Only a maximum of 100 results can be retreived in this way, per request. \n",
    "    To overcome this limit, more requests need to be made. \n",
    "    \"\"\"\n",
    "    TOKEN = get_token()\n",
    "\n",
    "    QUERY = f\"{query}\"\n",
    "\n",
    "    url_query = urllib.parse.urlencode({\"q\": QUERY, \"Range\": 1})\n",
    "    url_service = \"published-data/search?\"\n",
    "\n",
    "    URL = url_service + url_query\n",
    "\n",
    "    response = request(TOKEN, URL)\n",
    "\n",
    "    if response.ok:\n",
    "\n",
    "        json_search_response = json.loads(response.text)\n",
    "\n",
    "        search_results_json = json_search_response[\"ops:world-patent-data\"][\"ops:biblio-search\"]\\\n",
    "            [\"ops:search-result\"][\"ops:publication-reference\"]\n",
    "\n",
    "        try:\n",
    "            patent_number = (\n",
    "                search_results_json[0][\"document-id\"][\"country\"][\"$\"]\n",
    "                + search_results_json[0][\"document-id\"][\"doc-number\"][\"$\"]\n",
    "            )\n",
    "\n",
    "        except:\n",
    "            patent_number = (\n",
    "                search_results_json[\"document-id\"][\"country\"][\"$\"]\n",
    "                + search_results_json[\"document-id\"][\"doc-number\"][\"$\"]\n",
    "            )\n",
    "\n",
    "    else:\n",
    "\n",
    "        patent_number = None\n",
    "\n",
    "    return patent_number"
   ]
  },
  {
   "cell_type": "code",
   "execution_count": 21,
   "id": "7168f1de-4295-4352-8984-34a9f7b19b05",
   "metadata": {},
   "outputs": [],
   "source": [
    "def get_patent_abstract(pub_number: str):\n",
    "    \"\"\"\n",
    "    The present function retrieves the abstract and other bibliographic information given a patent number. \n",
    "    In case the patent number corresponds to diffrent publication types, more than one abstract is retrieved. \n",
    "    The abstract is given in all the languages it is present in the application,\n",
    "    \"\"\"\n",
    "    TOKEN = get_token()\n",
    "    URL = f\"published-data/publication/epodoc/{pub_number}/abstract\"\n",
    "    response = request(TOKEN, URL)\n",
    "\n",
    "    try:\n",
    "        response_json = json.loads(response.text)\n",
    "\n",
    "    except Exception:\n",
    "        response_json = None\n",
    "\n",
    "    return response_json"
   ]
  },
  {
   "cell_type": "markdown",
   "id": "6eef7300",
   "metadata": {},
   "source": [
    "## Example of Usage - CRISPR\n",
    "\n",
    "To show how the API can be used, I have decided to try to recieved the abstract of a patent document related to CRISPRS technology. See the application here below."
   ]
  },
  {
   "cell_type": "markdown",
   "id": "f019b77f",
   "metadata": {},
   "source": [
    "\n",
    "![CRISPR_patent_app.png](./images/CRISPR_patent_app.png)"
   ]
  },
  {
   "cell_type": "code",
   "execution_count": 22,
   "id": "2bd27fd0",
   "metadata": {},
   "outputs": [],
   "source": [
    "query = \"ti=CRISPR-CAS SYSTEMS AND METHODS FOR ALTERING EXPRESSION OF GENE PRODUCTS pn=EP\""
   ]
  },
  {
   "cell_type": "code",
   "execution_count": 23,
   "id": "c5d7ec8f",
   "metadata": {},
   "outputs": [],
   "source": [
    "p_number = get_patent_number(query)\n",
    "p_abstract = get_patent_abstract(p_number)"
   ]
  },
  {
   "cell_type": "code",
   "execution_count": 24,
   "id": "be2cb603-821a-4e88-85f8-61944c0c9e34",
   "metadata": {},
   "outputs": [
    {
     "name": "stdout",
     "output_type": "stream",
     "text": [
      "Patent Publication Number: \n",
      "EP2998400\n",
      "\n",
      "\n",
      "Patent Abstract: \n",
      "{'ops:world-patent-data': {'@xmlns': {'ops': 'http://ops.epo.org', '$': 'http://www.epo.org/exchange', 'xlink': 'http://www.w3.org/1999/xlink'}, 'exchange-documents': {'exchange-document': {'@country': 'EP', '@doc-number': '2998400', '@kind': 'A1', 'bibliographic-data': {'publication-reference': {'document-id': [{'@document-id-type': 'docdb', 'country': {'$': 'EP'}, 'doc-number': {'$': '2998400'}, 'kind': {'$': 'A1'}, 'date': {'$': '20160323'}}, {'@document-id-type': 'epodoc', 'doc-number': {'$': 'EP2998400'}, 'date': {'$': '20160323'}}]}, 'parties': {}}, 'abstract': {'@lang': 'en', 'p': {'$': 'The invention provides for systems, methods, and compositions for altering expression of target gene sequences and related gene products. Provided are vectors and vector systems, some of which encode one or more components of a CRISPR complex, as well as methods for the design and use of such vectors. Also provided are methods of directing CRISPR complex formation in eukaryotic cells and methods for utilizing the CRISPR-Cas system.'}}}}}}\n"
     ]
    }
   ],
   "source": [
    "print(f\"Patent Publication Number: \\n{p_number}\")\n",
    "print(\"\\n\")\n",
    "print(f\"Patent Abstract: \\n{p_abstract}\")"
   ]
  },
  {
   "cell_type": "code",
   "execution_count": 25,
   "id": "323d4678-f2ce-4d0c-8562-9ddbc3ad6eb2",
   "metadata": {},
   "outputs": [],
   "source": [
    "flattened_json = json_normalize(p_abstract) # I find in many instances easier to flatten the json to get to some values"
   ]
  },
  {
   "cell_type": "code",
   "execution_count": 26,
   "id": "0f805bdd-d343-40b3-8dd6-0e59e1832080",
   "metadata": {},
   "outputs": [],
   "source": [
    "abstract = flattened_json[\"ops:world-patent-data.exchange-documents.exchange-document.abstract.p.$\"][0]"
   ]
  },
  {
   "cell_type": "code",
   "execution_count": 27,
   "id": "822d11b1-3f4f-48ce-8243-8e4954b88d1d",
   "metadata": {},
   "outputs": [
    {
     "data": {
      "text/plain": [
       "'The invention provides for systems, methods, and compositions for altering expression of target gene sequences and related gene products. Provided are vectors and vector systems, some of which encode one or more components of a CRISPR complex, as well as methods for the design and use of such vectors. Also provided are methods of directing CRISPR complex formation in eukaryotic cells and methods for utilizing the CRISPR-Cas system.'"
      ]
     },
     "execution_count": 27,
     "metadata": {},
     "output_type": "execute_result"
    }
   ],
   "source": [
    "abstract"
   ]
  }
 ],
 "metadata": {
  "kernelspec": {
   "display_name": "Python 3.10.4 64-bit",
   "language": "python",
   "name": "python3"
  },
  "language_info": {
   "codemirror_mode": {
    "name": "ipython",
    "version": 3
   },
   "file_extension": ".py",
   "mimetype": "text/x-python",
   "name": "python",
   "nbconvert_exporter": "python",
   "pygments_lexer": "ipython3",
   "version": "3.10.4"
  },
  "vscode": {
   "interpreter": {
    "hash": "916dbcbb3f70747c44a77c7bcd40155683ae19c65e1c03b4aa3499c5328201f1"
   }
  }
 },
 "nbformat": 4,
 "nbformat_minor": 5
}
